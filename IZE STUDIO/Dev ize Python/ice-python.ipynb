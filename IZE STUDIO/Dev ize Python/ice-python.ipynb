{
 "cells": [
  {
   "cell_type": "code",
   "execution_count": null,
   "id": "f3fa524b-9307-4282-a297-4e8f345d2073",
   "metadata": {},
   "outputs": [],
   "source": [
    "print(\"Hello World!\")"
   ]
  },
  {
   "cell_type": "code",
   "execution_count": null,
   "id": "82885441-032e-46e0-b2db-314fcbce4781",
   "metadata": {},
   "outputs": [],
   "source": [
    "#Data/Variable(กำหนดค่าตัวแปร)\n",
    "name= \"วรากร รัตนโสภา\" #str   => ตัวอักษร,ชื่อ,ข้อความต่างๆ โดยใน() จะมี ' \" \"\"\"\n",
    "a=10                 #int   => ตัวเลขที่เป็นจำนวนเต็ม\n",
    "b=9.99               #float => ตัวเลขที่เป็นจำนวนจุดทศนิยม\n",
    "#type เป็นฟังก์ชั่นในการตรวจสอบตัวแปรว่าตรงกับชนิดข้อมูลใดในภาษาไพธอน\n",
    "print(name)\n",
    "print(type(name))\n",
    "print(a)\n",
    "print(type(a)) \n",
    "print(b)\n",
    "print(type(b)) \n"
   ]
  },
  {
   "cell_type": "code",
   "execution_count": 1,
   "id": "f5288016-ffa0-4b94-aad5-50734893902a",
   "metadata": {},
   "outputs": [
    {
     "name": "stdout",
     "output_type": "stream",
     "text": [
      "True\n"
     ]
    }
   ],
   "source": [
    "#กรณีอยากตรวจสอบว่าตัวแปร name มีชนิดข้อมูลที่เป็น str จริงหรือไม่ ให้ใช้ฟังก์ชั่น print(type(name) == str)\n",
    "name=\"ize\"\n",
    "print(type(name) == str)"
   ]
  },
  {
   "cell_type": "code",
   "execution_count": 1,
   "id": "6b28f160-1b92-482f-b4b7-389bcd444236",
   "metadata": {},
   "outputs": [
    {
     "name": "stdout",
     "output_type": "stream",
     "text": [
      "True\n"
     ]
    }
   ],
   "source": [
    "#กรณีอยากตรวจสอบว่าตัวแปร a มีชนิดข้อมูลทีเป็น int จริงหรือไม่ ให้ใช้ฟังก์ชั่น print(type(name) == int)\n",
    "a=10\n",
    "print(type(a) == int)"
   ]
  },
  {
   "cell_type": "code",
   "execution_count": null,
   "id": "31173efc-c18d-4830-903a-d40f39922bc5",
   "metadata": {},
   "outputs": [],
   "source": [
    "#กรณีอยากตรวจสอบว่าตัวแปร b มีชนิดข้อมูลทีเป็น float จริงหรือไม่ ให้ใช้ฟังก์ชั่น print(type(name) == float)\n",
    "b=9.99\n",
    "print(type(b) ==float)"
   ]
  },
  {
   "cell_type": "code",
   "execution_count": 2,
   "id": "783735ba-7354-4517-a61e-0b4ed93d04b0",
   "metadata": {},
   "outputs": [
    {
     "name": "stdout",
     "output_type": "stream",
     "text": [
      "Hello\n",
      "Hello ize \n",
      "Hello python\n"
     ]
    }
   ],
   "source": [
    "print('''Hello\n",
    "Hello ize \n",
    "Hello python''')\n"
   ]
  },
  {
   "cell_type": "code",
   "execution_count": 2,
   "id": "49f70cb4-b4fa-4d49-bf1f-26b0f1429a5b",
   "metadata": {},
   "outputs": [
    {
     "name": "stdout",
     "output_type": "stream",
     "text": [
      "สวัสดี\n",
      "สวัสดี วรากร\n",
      "สวัสดี Python\n"
     ]
    }
   ],
   "source": [
    "print(\"\"\"สวัสดี\n",
    "สวัสดี วรากร\n",
    "สวัสดี Python\"\"\")\n"
   ]
  },
  {
   "cell_type": "code",
   "execution_count": 3,
   "id": "2f7ff603-375b-4054-abee-2c0bfe740ef6",
   "metadata": {},
   "outputs": [
    {
     "name": "stdout",
     "output_type": "stream",
     "text": [
      "it's me\n"
     ]
    }
   ],
   "source": [
    "print(\"it's me\") #ถ้าเราต้องพิมพ์สายอักขระที่มีเครื่องหมาย quote ให้ใช้ Double quote ในการบอกขอบเขต"
   ]
  },
  {
   "cell_type": "code",
   "execution_count": 4,
   "id": "2c0dbab0-ff92-4cd1-a4bf-b4546dd99dcf",
   "metadata": {},
   "outputs": [
    {
     "name": "stdout",
     "output_type": "stream",
     "text": [
      "it's me\n"
     ]
    }
   ],
   "source": [
    "print('it\\'s me') #ถ้าเรายังต้องการพิมพ์สายอักขระที่มีเครื่องหมาย quote อยู่อีก จะต้องเติม \\ เพื่อบอกกับโปรแกรมว่าสิ่งนี้คือข้อความไม่ใช่ตัวบอกขอบเขต"
   ]
  },
  {
   "cell_type": "code",
   "execution_count": 5,
   "id": "11898486-ea03-4376-acdc-b34263dc72df",
   "metadata": {},
   "outputs": [
    {
     "name": "stdout",
     "output_type": "stream",
     "text": [
      "he said \"Python is my life.\"\n"
     ]
    }
   ],
   "source": [
    "print('he said \"Python is my life.\"')\n"
   ]
  },
  {
   "cell_type": "code",
   "execution_count": 6,
   "id": "23e6112f-3c1d-43b4-bc7b-eca960d0af12",
   "metadata": {},
   "outputs": [
    {
     "name": "stdout",
     "output_type": "stream",
     "text": [
      "he said \"Python is my life.\"\n"
     ]
    }
   ],
   "source": [
    "print(\"he said \\\"Python is my life.\\\"\")\n",
    "      "
   ]
  },
  {
   "cell_type": "code",
   "execution_count": 7,
   "id": "37a0afc8-0b15-4de1-b400-ba23762ce0a4",
   "metadata": {},
   "outputs": [
    {
     "name": "stdout",
     "output_type": "stream",
     "text": [
      "he said \"\\Python is my life.\\\"\n"
     ]
    }
   ],
   "source": [
    "print(\"he said \\\"\\\\Python is my life.\\\\\\\"\")"
   ]
  },
  {
   "cell_type": "code",
   "execution_count": 8,
   "id": "d0e8645d-e84e-4e73-8e3c-e5398d76e5b5",
   "metadata": {},
   "outputs": [
    {
     "name": "stdout",
     "output_type": "stream",
     "text": [
      "\\\n"
     ]
    }
   ],
   "source": [
    "print(\"\\\\\")"
   ]
  },
  {
   "cell_type": "code",
   "execution_count": 9,
   "id": "dea469bf-3b4c-4c20-866b-92c1e6af8a6b",
   "metadata": {},
   "outputs": [
    {
     "name": "stdout",
     "output_type": "stream",
     "text": [
      "1\n"
     ]
    }
   ],
   "source": [
    "print(1)\n"
   ]
  },
  {
   "cell_type": "code",
   "execution_count": 10,
   "id": "46f3bb30-13c8-4de8-8dd0-50b80461d7d6",
   "metadata": {},
   "outputs": [
    {
     "name": "stdout",
     "output_type": "stream",
     "text": [
      "1.5\n"
     ]
    }
   ],
   "source": [
    "print(1.5)\n"
   ]
  },
  {
   "cell_type": "code",
   "execution_count": 11,
   "id": "0e113a80-5360-4b24-aae7-9d504c5a5241",
   "metadata": {},
   "outputs": [
    {
     "name": "stdout",
     "output_type": "stream",
     "text": [
      "3.5\n"
     ]
    }
   ],
   "source": [
    "print(3.50)\n"
   ]
  },
  {
   "cell_type": "code",
   "execution_count": 12,
   "id": "38f714ab-c051-4f02-bb6f-f433219a0d47",
   "metadata": {},
   "outputs": [
    {
     "name": "stdout",
     "output_type": "stream",
     "text": [
      "3\n"
     ]
    }
   ],
   "source": [
    "print('%d' %3) # %d int เลขจำนวนเต็ม"
   ]
  },
  {
   "cell_type": "code",
   "execution_count": 15,
   "id": "97de1d31-57f3-405d-840d-1b5a7acbc2d8",
   "metadata": {},
   "outputs": [
    {
     "name": "stdout",
     "output_type": "stream",
     "text": [
      "10.000000\n"
     ]
    }
   ],
   "source": [
    "print('%f' %10) # %f float เบื้องต้นจะพิมพ์ทศนิยมมาให้ก่อน 6 ตำแหน่ง แต่สามารถปรับทศนิยมเองได้"
   ]
  },
  {
   "cell_type": "code",
   "execution_count": 13,
   "id": "cbc4ca40-a7b1-4579-b38f-8b9b9a57c705",
   "metadata": {},
   "outputs": [
    {
     "name": "stdout",
     "output_type": "stream",
     "text": [
      "1.0\n"
     ]
    }
   ],
   "source": [
    "print('%s' %1.0) # %s พิมพ์ได้ทุกอย่างที่เรากำหนดลงไป"
   ]
  },
  {
   "cell_type": "code",
   "execution_count": 3,
   "id": "428ec2f0-4909-45b4-8987-af0fa148e966",
   "metadata": {},
   "outputs": [
    {
     "name": "stdout",
     "output_type": "stream",
     "text": [
      "100.0\n"
     ]
    }
   ],
   "source": [
    "print('%s' %100.00)"
   ]
  },
  {
   "cell_type": "code",
   "execution_count": 14,
   "id": "12e389c1-4c66-4e7f-960c-db73a1277899",
   "metadata": {},
   "outputs": [
    {
     "name": "stdout",
     "output_type": "stream",
     "text": [
      "2 5.00 7.99\n"
     ]
    }
   ],
   "source": [
    "print('%d %.2f %s' %(2, 5, 7.99))"
   ]
  },
  {
   "cell_type": "code",
   "execution_count": 16,
   "id": "c3e84d30-7f8e-4359-9233-5cc8556dacfe",
   "metadata": {},
   "outputs": [
    {
     "name": "stdout",
     "output_type": "stream",
     "text": [
      "199.9 5.00000 500\n"
     ]
    }
   ],
   "source": [
    "print('%s %.5f %d' %(199.9, 5, 500))"
   ]
  },
  {
   "cell_type": "code",
   "execution_count": 17,
   "id": "9bfe45fa-6c18-42fd-bb1f-094c775e1a9e",
   "metadata": {},
   "outputs": [
    {
     "name": "stdout",
     "output_type": "stream",
     "text": [
      "I love you 3000\n"
     ]
    }
   ],
   "source": [
    "print('I love you',3000)"
   ]
  },
  {
   "cell_type": "code",
   "execution_count": 18,
   "id": "82ac6274-f8c9-466b-9952-cd22f8469084",
   "metadata": {},
   "outputs": [
    {
     "name": "stdout",
     "output_type": "stream",
     "text": [
      "10 + 10 = 20\n"
     ]
    }
   ],
   "source": [
    "print('10 + 10 =' , 10 + 10)"
   ]
  },
  {
   "cell_type": "code",
   "execution_count": 20,
   "id": "01a22019-9487-4c38-9c9a-28cc7d92518e",
   "metadata": {},
   "outputs": [
    {
     "name": "stdout",
     "output_type": "stream",
     "text": [
      "I love you 3000\n"
     ]
    }
   ],
   "source": [
    "print('I love you '+str(3000))"
   ]
  },
  {
   "cell_type": "code",
   "execution_count": 19,
   "id": "58daaf0d-e9e5-40ed-aff7-b747ec3b2e15",
   "metadata": {},
   "outputs": [
    {
     "name": "stdout",
     "output_type": "stream",
     "text": [
      "10 + 10 =20\n"
     ]
    }
   ],
   "source": [
    "print('10 + 10 =' + str(10+10))"
   ]
  },
  {
   "cell_type": "code",
   "execution_count": 21,
   "id": "e2221891-59a8-4e58-9680-61ec85e08009",
   "metadata": {},
   "outputs": [
    {
     "name": "stdout",
     "output_type": "stream",
     "text": [
      "I love you 3000\n"
     ]
    }
   ],
   "source": [
    "print('I love you %d'%3000)"
   ]
  },
  {
   "cell_type": "code",
   "execution_count": null,
   "id": "03ce745d-52a0-4961-a2f4-5c811b0071f1",
   "metadata": {},
   "outputs": [],
   "source": [
    "print('5 + 7 = %d'%(5+7))"
   ]
  },
  {
   "cell_type": "code",
   "execution_count": null,
   "id": "cb6e581a-38bb-4f20-92da-43e54595e293",
   "metadata": {},
   "outputs": [],
   "source": [
    "print('I am %d year old'%27)"
   ]
  },
  {
   "cell_type": "code",
   "execution_count": null,
   "id": "4df41d63-f568-42d6-af3a-5ea5998f01d9",
   "metadata": {},
   "outputs": [],
   "source": [
    "print('I from %s'%('Thailand'))"
   ]
  },
  {
   "cell_type": "code",
   "execution_count": null,
   "id": "7fdc42c8-2245-4e33-bebc-e839548704e4",
   "metadata": {},
   "outputs": [],
   "source": [
    "print('My Telephonenumber is %s'%('0939564300'))"
   ]
  },
  {
   "cell_type": "code",
   "execution_count": null,
   "id": "0825f61d-0b54-4df4-9006-6bc1752bbe5e",
   "metadata": {},
   "outputs": [],
   "source": [
    "print('I like playing game %d'%10)"
   ]
  },
  {
   "cell_type": "code",
   "execution_count": null,
   "id": "51f53dbe-5cdc-489b-804e-3549b8174f82",
   "metadata": {},
   "outputs": [],
   "source": [
    "car = [\"honda\", \"toyota\", \"isuzu\"]\n",
    "x, y, z = car\n",
    "print(x)\n",
    "print(y)\n",
    "print(z)"
   ]
  },
  {
   "cell_type": "code",
   "execution_count": null,
   "id": "f88fd506-efa4-4c4b-995c-616c834be3a2",
   "metadata": {},
   "outputs": [],
   "source": [
    "x = \"Hello\"\n",
    "y = \"is a\"\n",
    "z = \"Python!!\"\n",
    "print(x,y,z)"
   ]
  },
  {
   "cell_type": "code",
   "execution_count": 4,
   "id": "e4e1d57d-7f87-443c-8b3a-0aa19ec51a17",
   "metadata": {},
   "outputs": [
    {
     "name": "stdout",
     "output_type": "stream",
     "text": [
      "นี้คือชื่อของผม: Warakron\n"
     ]
    }
   ],
   "source": [
    "x = \"Warakron\"\n",
    "\n",
    "def myfunc():\n",
    "    print(\"นี้คือชื่อของผม: \"+x)\n",
    "myfunc()\n",
    "\n",
    "    "
   ]
  },
  {
   "cell_type": "code",
   "execution_count": null,
   "id": "6c6fa6d3-bcce-4713-b01a-5253e807b57b",
   "metadata": {},
   "outputs": [],
   "source": [
    "x = \"Warakron\"\n",
    "\n",
    "def myfunc():\n",
    "  x = \"ice\"\n",
    "  print(\"Python is \" + x) #variable inside a function, with the same name as the global variable\n",
    "\n",
    "myfunc()\n",
    "\n",
    "print(\"Python is \" + x)\n"
   ]
  },
  {
   "cell_type": "code",
   "execution_count": null,
   "id": "8ec90551-8143-41a5-ae53-fa9b9f47c5d0",
   "metadata": {},
   "outputs": [],
   "source": [
    "def myfunc():\n",
    "    global a\n",
    "    a = \"xbox\"\n",
    "myfunc()\n",
    "print(\"This is a \"+ a)"
   ]
  },
  {
   "cell_type": "code",
   "execution_count": null,
   "id": "10522322-2c1a-45d0-9445-a291051b5054",
   "metadata": {},
   "outputs": [],
   "source": [
    "#หากต้องการเปลี่ยนค่าของตัวแปรร่วมภายในฟังก์ชัน ให้อ้างอิงถึงตัวแปรโดยใช้คีย์เวิร์ดสากล\n",
    "b = \"car\"\n",
    "def myfunc():\n",
    "    global b\n",
    "    b = \"bike\"\n",
    "myfunc()\n",
    "print(b)\n",
    "    "
   ]
  },
  {
   "cell_type": "code",
   "execution_count": null,
   "id": "bb4b8312-7896-4dcc-9236-41708aa82f4f",
   "metadata": {},
   "outputs": [],
   "source": [
    "x = range(999)\n",
    "print(x)"
   ]
  },
  {
   "cell_type": "code",
   "execution_count": null,
   "id": "28eb31f8-c11a-422b-a917-41be1f8b707b",
   "metadata": {},
   "outputs": [],
   "source": [
    "z = -3255522\n",
    "print(type(z))"
   ]
  },
  {
   "cell_type": "code",
   "execution_count": null,
   "id": "c806cfe1-7329-4a45-a743-8070cf795d78",
   "metadata": {},
   "outputs": [],
   "source": [
    "x = 3+5j\n",
    "y = 5j\n",
    "z = -5j\n",
    "print(x)\n",
    "print(z)"
   ]
  },
  {
   "cell_type": "code",
   "execution_count": null,
   "id": "0ec6f397-d8bc-4f7c-96ae-df91ceb3a4e1",
   "metadata": {},
   "outputs": [],
   "source": [
    "#Casting\n",
    "z = complex(1)\n",
    "print(z)"
   ]
  },
  {
   "cell_type": "code",
   "execution_count": null,
   "id": "22e54349-a27f-4b1c-9979-6c351fa7f64c",
   "metadata": {},
   "outputs": [],
   "source": [
    "a = 1\n",
    "print(float(a))"
   ]
  },
  {
   "cell_type": "code",
   "execution_count": null,
   "id": "0eb1f4f8-c6ec-4821-bfab-fd09cc1b38e5",
   "metadata": {},
   "outputs": [],
   "source": [
    "y = str(9.99)\n",
    "print(y)"
   ]
  },
  {
   "cell_type": "code",
   "execution_count": null,
   "id": "a1265372-6230-4c89-9935-71a0b87f5d13",
   "metadata": {},
   "outputs": [],
   "source": [
    "#random ในชุดนี้ จะทำการเรียกใช้ Module เพื่อเป็นการสุ่มตัวเลข\n",
    "import random\n",
    "\n",
    "print(random.randrange(1,999)) #จากตัวอย่างได้ทำการสุ่มตัวเลขมาหนึ่งตัวภายในตัวเลข 1-999"
   ]
  },
  {
   "cell_type": "code",
   "execution_count": null,
   "id": "0d5625e6-7495-4293-930b-bc8f6ac67416",
   "metadata": {},
   "outputs": [],
   "source": [
    "a = \"Warakron-Ratanasopa\"\n",
    "print(len(a))"
   ]
  },
  {
   "cell_type": "code",
   "execution_count": null,
   "id": "15344470-831a-46b2-be11-54fd79555e9c",
   "metadata": {},
   "outputs": [],
   "source": [
    "for a in \"ice\":\n",
    "  print(a)"
   ]
  },
  {
   "cell_type": "code",
   "execution_count": null,
   "id": "1e0b1a5a-9a9d-4950-9318-6a2e9a6ac48e",
   "metadata": {},
   "outputs": [],
   "source": [
    "a=2\n",
    "b=1\n",
    "c=a-b\n",
    "if a>b:\n",
    "    print(\"ของแทร่\")\n",
    "elif a<b:\n",
    "    print(\"เก่งเหมือนกันน่ะเนี่ย!!\")\n",
    "if c>a:\n",
    "    print(\"เก่งเกิ้น!!\")\n",
    "elif c<a:\n",
    "    print(\"มั่วแล้ว!!\")\n"
   ]
  },
  {
   "cell_type": "code",
   "execution_count": null,
   "id": "753c60c9-7ddc-4554-ab06-dcce43cc4914",
   "metadata": {},
   "outputs": [],
   "source": [
    "for a in range(0,5,+1):\n",
    "    print(a)"
   ]
  },
  {
   "cell_type": "code",
   "execution_count": null,
   "id": "efc2ce3a-68b2-4bf8-bc27-c9ff10999180",
   "metadata": {},
   "outputs": [],
   "source": [
    "age = int(input(\"ป้อนข้อมูลอายุของคุณดูสิ!:\"))#การรับค้าจากผู้ใช้งานโดยใช้ ฟังก์ชั่น input()\n",
    "print(\"คุณมีอายุ:\"+str(age)+\" ปี ครับ\")"
   ]
  },
  {
   "cell_type": "code",
   "execution_count": null,
   "id": "7c9e0c83-f058-4efd-bbb5-52d6ec276123",
   "metadata": {},
   "outputs": [],
   "source": [
    "name = input('ใส่ชื่อของคุณเพื่อทำการลงทะเบียน:')\n",
    "age = int(input('แล้วคุณมีอายุเท่าไหร่ครับ:'))\n",
    "address = input('คุณอาศัยอยู่จังหวัดอะไรครับ:')\n",
    "print('สวัสดีครับคุณ:'+(name)+' คุณมีอายุ '+str(age)+' ปี'+' คุณเป็นคนจังหวัด:'+(address))"
   ]
  },
  {
   "cell_type": "code",
   "execution_count": null,
   "id": "39306955-c9c9-4fa1-bb2a-92193880fc69",
   "metadata": {},
   "outputs": [],
   "source": [
    "price = float(input('ราคาสินค้า:'))#ตัวอย่างการคำนวนภาษี\n",
    "vat = (7/100)*price\n",
    "print('ราคาสินค้าก่อนรวม VAT:','{:,.2f}'.format(price),'บาท')\n",
    "print('VAT : ','{:,.2f}'.format(vat),'บาท')\n",
    "print('ราคาสินค้ารวม Vat = ',float(price+vat),'บาท')"
   ]
  },
  {
   "cell_type": "code",
   "execution_count": null,
   "id": "5bd865e7-f5db-4d0b-acaa-4b8633a12dfb",
   "metadata": {},
   "outputs": [],
   "source": [
    "price = float(input('ราคาสินค้า: '))\n",
    "vat_rate = 7 / 100\n",
    "\n",
    "# คำนวณราคาสินค้าก่อนรวม VAT\n",
    "price_before_vat = price / (1 + vat_rate)\n",
    "\n",
    "# คำนวณ VAT\n",
    "vat = price - price_before_vat\n",
    "\n",
    "print('ราคาสินค้าก่อนรวม VAT: {:,.2f} บาท'.format(price_before_vat))\n",
    "print('VAT: {:,.2f} บาท'.format(vat))\n",
    "print('ราคาสินค้ารวม VAT: {:,.2f} บาท'.format(price))"
   ]
  },
  {
   "cell_type": "code",
   "execution_count": null,
   "id": "42fb48e7-4abb-41e5-a174-f6771512ef8c",
   "metadata": {},
   "outputs": [],
   "source": [
    "name = 'Warakron Ratanasopa'\n",
    "age = 27\n",
    "myname = 'My name is {} I am {} Years old.'\n",
    "print(myname.format(name,age))\n",
    "\n",
    "name = 'Warakron Ratanasopa'\n",
    "age = 27\n",
    "myname = 'My name is {0} I am {1} Years old.'\n",
    "print(myname.format(name,age))\n"
   ]
  },
  {
   "cell_type": "code",
   "execution_count": null,
   "id": "471d36d4-ee8b-423c-81f3-4bd243b94526",
   "metadata": {},
   "outputs": [],
   "source": [
    "#List\n",
    "thislist = ['apple','banana','cherry']\n",
    "print(thislist)\n",
    "\n",
    "name = ['ice','sai','P\\'peth']\n",
    "print(len(name))\n",
    "\n",
    "list1 = ['apple','banana','cherry']\n",
    "list2 = [1,2,3,4,5,6,7,8,9,0]\n",
    "list3 = [True,False,False]\n",
    "print(list1)\n",
    "print(list2)\n",
    "print(list3)\n",
    "\n",
    "thislist = list((\"apple\", \"banana\", \"cherry\")) #Using the list() constructor to make a List:\n",
    "print(thislist)"
   ]
  },
  {
   "cell_type": "code",
   "execution_count": 1,
   "id": "8d2151e7-a6b8-49a1-8db9-65778316d220",
   "metadata": {},
   "outputs": [
    {
     "name": "stdout",
     "output_type": "stream",
     "text": [
      "No!\n"
     ]
    }
   ],
   "source": [
    "thislist = [\"apple\", \"orenge\", \"cherry\"]\n",
    "if 'banana' in thislist:\n",
    "    print(\"Yes, 'banana' is in the fruits list\") #Check if Item Exists\n",
    "else:\n",
    "    print(\"No!\")\n"
   ]
  },
  {
   "cell_type": "code",
   "execution_count": null,
   "id": "8678999e-15ec-4e82-b45b-a66286a04cb4",
   "metadata": {},
   "outputs": [],
   "source": [
    "#Change Item Value เปลี่ยน str ที่อยู่ใน list\n",
    "Mylist = [\"apple\",\"banana\",\"cherry\"]\n",
    "Mylist[2]= \"mango\"\n",
    "print(Mylist)"
   ]
  },
  {
   "cell_type": "code",
   "execution_count": null,
   "id": "b80c9316-3fa3-4b7a-afa8-354fb2a4f24a",
   "metadata": {},
   "outputs": [],
   "source": [
    "#Insert Items แทรกเพิ่มเข้าไปโดยระบุตำแหน่ง\n",
    "name = [\"ice\", \"sai\", \"P'peth\"]\n",
    "name.insert(1, \"Not\") #ตัวอย่างcodeนี้ ระบุตำแหน่งที่ 1 \n",
    "print(name) "
   ]
  },
  {
   "cell_type": "code",
   "execution_count": null,
   "id": "e7ef4512-81b8-4dbb-b2b4-7db522b86c53",
   "metadata": {},
   "outputs": [],
   "source": [
    "#Append Items เติมต่อท้ายสุดใน list\n",
    "car = [\"Toyota\", \"Nissan\", \"Honda\"]\n",
    "\n",
    "car.append(\"Ford\") #ให้ \"ford\" ไปต่อท้ายสุดของ list\n",
    "\n",
    "print(car)"
   ]
  },
  {
   "cell_type": "code",
   "execution_count": null,
   "id": "d4897807-69cc-4503-a6f1-a72aa94db329",
   "metadata": {},
   "outputs": [],
   "source": [
    "#Extend List จับ list มารวมกัน\n",
    "car = [\"van\", \"Truck\", \"Motorcycle\"]\n",
    "Brands = [\"Toyota\", \"Nissan\", \"Honda\"]\n",
    "\n",
    "car.extend(Brands)\n",
    "\n",
    "print(car)"
   ]
  },
  {
   "cell_type": "code",
   "execution_count": null,
   "id": "fe630e82-a0e2-4469-af54-e2bb7c45b5bb",
   "metadata": {},
   "outputs": [],
   "source": [
    "#Remove Specified Item\n",
    "cpu = ['intel','amd','snapdragon']\n",
    "cpu.remove('snapdragon')\n",
    "print(cpu)"
   ]
  },
  {
   "cell_type": "code",
   "execution_count": null,
   "id": "616b2f72-be65-4850-a108-5f7d1204bb17",
   "metadata": {},
   "outputs": [],
   "source": [
    "#Remove Specified Index\n",
    "cpu = ['intel','amd','snapdragon']\n",
    "cpu.pop(0)\n",
    "print(cpu)"
   ]
  },
  {
   "cell_type": "code",
   "execution_count": null,
   "id": "2db4ab92-7ff4-4edd-b1ca-afc04bfcbb09",
   "metadata": {},
   "outputs": [],
   "source": [
    "#The del keyword also removes the specified index:\n",
    "cpu = ['intel','amd','snapdragon']\n",
    "del cpu[2]\n",
    "print(cpu)\n"
   ]
  },
  {
   "cell_type": "code",
   "execution_count": null,
   "id": "bf33fde6-d457-4d0c-aa17-4d4289b1ec80",
   "metadata": {},
   "outputs": [],
   "source": [
    "#Clear the List\n",
    "cpu = ['core i5','Ryzen 3','Snap888']\n",
    "cpu.clear() #The clear() method empties the list.The list still remains, but it has no content.\n",
    "print(cpu)\n"
   ]
  },
  {
   "cell_type": "code",
   "execution_count": null,
   "id": "3a818fb4-3c45-4890-a3dc-bf0b927a6118",
   "metadata": {},
   "outputs": [],
   "source": [
    "#Python - Loop Lists\n",
    "#แทนที่ thislist โดย a ให้ For loop thislist ออกมา\n",
    "thislist = ['asus','hp','acer']\n",
    "for a in thislist:\n",
    "    print(a)"
   ]
  },
  {
   "cell_type": "code",
   "execution_count": null,
   "id": "e45a4f7d-97f1-4dcd-8227-08b804d1257f",
   "metadata": {},
   "outputs": [],
   "source": [
    "# for loop แบบสั้น\n",
    "thislist = ['asus','hp','acer']\n",
    "[print(b) for b in thislist]"
   ]
  },
  {
   "cell_type": "code",
   "execution_count": null,
   "id": "3ea4f3b5-a47c-490c-b1a9-181f7a297ad2",
   "metadata": {},
   "outputs": [],
   "source": [
    "def calculate_length(text):\n",
    "    return len(text)\n",
    "\n",
    "input_text = input(\"ป้อนข้อความ: \")\n",
    "length = calculate_length(input_text)\n",
    "print(\"ความยาวของข้อความ:\", length, \"ตัวอักษร\")"
   ]
  },
  {
   "cell_type": "code",
   "execution_count": 5,
   "id": "fdb41d4f-dae7-4e1a-ac8a-caf4c29842d9",
   "metadata": {},
   "outputs": [
    {
     "name": "stdout",
     "output_type": "stream",
     "text": [
      "ตารางคูณของเลข 5 :\n",
      "5 x 1 = 5\n",
      "5 x 2 = 10\n",
      "5 x 3 = 15\n",
      "5 x 4 = 20\n",
      "5 x 5 = 25\n",
      "5 x 6 = 30\n",
      "5 x 7 = 35\n",
      "5 x 8 = 40\n",
      "5 x 9 = 45\n",
      "5 x 10 = 50\n",
      "5 x 11 = 55\n",
      "5 x 12 = 60\n"
     ]
    }
   ],
   "source": [
    "num = int(input(\"ป้อนตัวเลขที่ต้องการแสดงตารางคูณ: \"))\n",
    "\n",
    "print(\"ตารางคูณของเลข {} :\".format(num))\n",
    "for i in range(1, 13):\n",
    "    print(\"{} x {} = {}\".format(num, i, num*i))"
   ]
  },
  {
   "cell_type": "code",
   "execution_count": null,
   "id": "e4b44c62-cfa3-4693-919d-addc06f2bec7",
   "metadata": {},
   "outputs": [],
   "source": []
  }
 ],
 "metadata": {
  "kernelspec": {
   "display_name": "Python 3 (ipykernel)",
   "language": "python",
   "name": "python3"
  },
  "language_info": {
   "codemirror_mode": {
    "name": "ipython",
    "version": 3
   },
   "file_extension": ".py",
   "mimetype": "text/x-python",
   "name": "python",
   "nbconvert_exporter": "python",
   "pygments_lexer": "ipython3",
   "version": "3.12.3"
  }
 },
 "nbformat": 4,
 "nbformat_minor": 5
}
